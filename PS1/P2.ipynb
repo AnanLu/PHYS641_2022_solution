{
  "cells": [
    {
      "cell_type": "markdown",
      "id": "e9b248df",
      "metadata": {
        "id": "e9b248df"
      },
      "source": [
        "## Problem 2"
      ]
    },
    {
      "cell_type": "code",
      "execution_count": null,
      "id": "c4670bfd",
      "metadata": {
        "id": "c4670bfd"
      },
      "outputs": [],
      "source": [
        "import numpy as np\n",
        "from matplotlib import pyplot as plt"
      ]
    },
    {
      "cell_type": "markdown",
      "id": "f2d74c0a",
      "metadata": {
        "id": "f2d74c0a"
      },
      "source": [
        "We want to show how many events we need to see before a Gaussian and Poisson agree within a factor of 2 at both 3- and 5-sigma.  We'll do this by taking the 3/5-sigma levels of a Gaussian, and evaluating the difference in the log probability.\n",
        "\n",
        "For convenience, lets generate log(n!) for a bunch of values of n."
      ]
    },
    {
      "cell_type": "code",
      "execution_count": null,
      "id": "c1cc96ad",
      "metadata": {
        "id": "c1cc96ad",
        "outputId": "d6f879ce-fe35-4317-e041-a3efa0dcd358"
      },
      "outputs": [
        {
          "name": "stdout",
          "output_type": "stream",
          "text": [
            "comparison of  10  factorial is  3628800  which we think is  3628800.0000000084\n"
          ]
        }
      ],
      "source": [
        "nmax=10000\n",
        "ivec=np.arange(nmax)\n",
        "ivec[0]=1 #special case since 0! is 1\n",
        "\n",
        "log_ivec=np.log(ivec)\n",
        "log_fact=np.cumsum(log_ivec)\n",
        "#print a check value\n",
        "icheck=10\n",
        "print('comparison of ',icheck,' factorial is ',np.math.factorial(icheck),\n",
        "      ' which we think is ',np.exp(log_fact[icheck]))\n",
        "\n"
      ]
    },
    {
      "cell_type": "markdown",
      "id": "0a565bcf",
      "metadata": {
        "id": "0a565bcf"
      },
      "source": [
        "Now generate a list of expectations (lamda)"
      ]
    },
    {
      "cell_type": "code",
      "execution_count": null,
      "id": "d3fba3b6",
      "metadata": {
        "id": "d3fba3b6"
      },
      "outputs": [],
      "source": [
        "# lamda=np.arange(3,nmax-10*np.sqrt(nmax))\n",
        "lamda=np.arange(1,8000.99)"
      ]
    },
    {
      "cell_type": "markdown",
      "id": "5f0c2339",
      "metadata": {
        "id": "5f0c2339"
      },
      "source": [
        "Print the log of Gaussian and Poisson as a function of n. n is $\\lambda+5 \\sqrt{\\lambda}$"
      ]
    },
    {
      "cell_type": "code",
      "execution_count": null,
      "id": "887b5ce8",
      "metadata": {
        "id": "887b5ce8",
        "outputId": "823d9d79-9d2d-4967-f04e-cdbd4d2f9911"
      },
      "outputs": [
        {
          "data": {
            "image/png": "[encoded data removed]",
            "text/plain": [
              "<Figure size 640x480 with 1 Axes>"
            ]
          },
          "metadata": {},
          "output_type": "display_data"
        }
      ],
      "source": [
        "nn=np.asarray(np.round(lamda+5*np.sqrt(lamda)),dtype='int64')\n",
        "logg=-0.5*(nn-lamda)**2/lamda-0.5*np.log(2*np.pi*lamda)\n",
        "\n",
        "logp=0*logg\n",
        "for i in range(len(logg)):\n",
        "    logp[i]=-lamda[i]+nn[i]*np.log(lamda[i])-log_fact[nn[i]]\n",
        "\n",
        "plt.plot(nn,logg)\n",
        "plt.plot(nn,logp)\n",
        "plt.show()"
      ]
    },
    {
      "cell_type": "markdown",
      "id": "c5fdad16",
      "metadata": {
        "id": "c5fdad16"
      },
      "source": [
        "Now let's find out how many n will make logg and logp close enough"
      ]
    },
    {
      "cell_type": "code",
      "execution_count": null,
      "id": "64a82199",
      "metadata": {
        "id": "64a82199",
        "outputId": "e3d15839-a142-4d46-8888-e0b57817178b"
      },
      "outputs": [
        {
          "name": "stdout",
          "output_type": "stream",
          "text": [
            "at  5  sigma, we need about  688  events to be good within a factor of 2.\n",
            "at  3  sigma, we need about  13  events to be good within a factor of 2.\n"
          ]
        }
      ],
      "source": [
        "sigs=[5,3]\n",
        "for nsig in sigs:\n",
        "    nn=np.asarray(np.round(lamda+nsig*np.sqrt(lamda)),dtype='int64')\n",
        "    logg=-0.5*(nn-lamda)**2/lamda-0.5*np.log(2*np.pi*lamda)\n",
        "    logp=0*logg\n",
        "\n",
        "    for i in range(len(logg)):\n",
        "        logp[i]=-lamda[i]+nn[i]*np.log(lamda[i])-log_fact[nn[i]]\n",
        "        \n",
        "    if logp[0]>logg[0]:\n",
        "        myind=np.min(np.where(logp-logg<np.log(2.0)))\n",
        "    else:\n",
        "        myind=np.min(np.where(logp-logg>np.log(0.5)))\n",
        "    print('at ',nsig,' sigma, we need about ', nn[myind],' events to be good within a factor of 2.')\n"
      ]
    },
    {
      "cell_type": "code",
      "execution_count": null,
      "id": "f720307c",
      "metadata": {
        "id": "f720307c"
      },
      "outputs": [],
      "source": []
    },
    {
      "cell_type": "code",
      "execution_count": null,
      "id": "a463410b",
      "metadata": {
        "id": "a463410b"
      },
      "outputs": [],
      "source": []
    }
  ],
  "metadata": {
    "kernelspec": {
      "display_name": "Python 3",
      "language": "python",
      "name": "python3"
    },
    "language_info": {
      "codemirror_mode": {
        "name": "ipython",
        "version": 3
      },
      "file_extension": ".py",
      "mimetype": "text/x-python",
      "name": "python",
      "nbconvert_exporter": "python",
      "pygments_lexer": "ipython3",
      "version": "3.8.11"
    },
    "colab": {
      "provenance": []
    }
  },
  "nbformat": 4,
  "nbformat_minor": 5
}